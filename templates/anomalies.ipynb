{
 "cells": [
  {
   "cell_type": "markdown",
   "metadata": {
    "collapsed": false,
    "jupyter": {
     "outputs_hidden": false
    }
   },
   "source": [
    "First, setup parameters about insight we want to work on."
   ]
  },
  {
   "cell_type": "code",
   "execution_count": null,
   "metadata": {},
   "outputs": [],
   "source": []
  },
  {
   "cell_type": "markdown",
   "metadata": {
    "collapsed": false,
    "jupyter": {
     "outputs_hidden": false
    }
   },
   "source": [
    "Now prepare insight analyzer instance."
   ]
  },
  {
   "cell_type": "code",
   "execution_count": null,
   "metadata": {
    "collapsed": false,
    "jupyter": {
     "outputs_hidden": false
    }
   },
   "outputs": [],
   "source": [
    "from insight_analyzer import *\n",
    "\n",
    "analyzer = AnomalyAnalyzer()"
   ]
  },
  {
   "cell_type": "markdown",
   "metadata": {
    "collapsed": false,
    "jupyter": {
     "outputs_hidden": false
    }
   },
   "source": [
    "Ok, first we want to validate the data, if we can run the anomaly scan on it."
   ]
  },
  {
   "cell_type": "code",
   "execution_count": null,
   "metadata": {
    "collapsed": false,
    "jupyter": {
     "outputs_hidden": false
    }
   },
   "outputs": [],
   "source": [
    "df = analyzer.get_df()"
   ]
  },
  {
   "cell_type": "code",
   "execution_count": null,
   "metadata": {
    "collapsed": false,
    "jupyter": {
     "outputs_hidden": false
    }
   },
   "outputs": [],
   "source": [
    "df.head(5)"
   ]
  },
  {
   "cell_type": "markdown",
   "metadata": {
    "collapsed": false,
    "jupyter": {
     "outputs_hidden": false
    }
   },
   "source": [
    "OK, now let's do first iteration of the parameters, to see how it would look like on the demo data!"
   ]
  },
  {
   "cell_type": "code",
   "execution_count": null,
   "metadata": {
    "collapsed": false,
    "jupyter": {
     "outputs_hidden": false
    }
   },
   "outputs": [],
   "source": [
    "window = 3\n",
    "sensitivity = 1\n",
    "persist_model = PersistAD(window = window, c = sensitivity, side = \"both\")\n",
    "anomalies = persist_model.fit_detect(df)"
   ]
  },
  {
   "cell_type": "markdown",
   "metadata": {
    "collapsed": false,
    "jupyter": {
     "outputs_hidden": false
    }
   },
   "source": [
    "Now let's plot it, so we can see it!"
   ]
  },
  {
   "cell_type": "code",
   "execution_count": null,
   "metadata": {
    "collapsed": false,
    "jupyter": {
     "outputs_hidden": false
    }
   },
   "outputs": [],
   "source": [
    "fig, ax = plt.subplots(figsize=(7, 2.5))\n",
    "df.plot(ax=ax, label=\"data\")\n",
    "anomalies = anomalies.fillna(False)\n",
    "\n",
    "# Filter the data using the anomalies binary mask to get the anomaly values.\n",
    "anomaly_values = df[anomalies]\n",
    "\n",
    "# Use scatter to plot the anomalies as points.\n",
    "ax.scatter(anomaly_values.index, anomaly_values, color=\"red\", label=\"anomalies\")\n",
    "\n",
    "ax.legend()"
   ]
  },
  {
   "cell_type": "markdown",
   "metadata": {
    "collapsed": false,
    "jupyter": {
     "outputs_hidden": false
    }
   },
   "source": [
    "That is meaby a bit too sensitive, let's tone it down a little. 2.5 should suffice."
   ]
  },
  {
   "cell_type": "code",
   "execution_count": null,
   "metadata": {
    "collapsed": false,
    "jupyter": {
     "outputs_hidden": false
    }
   },
   "outputs": [],
   "source": [
    "sensitivity = 2.5\n",
    "seasonal_ad = PersistAD(window= 3, c=sensitivity, side=\"both\")\n",
    "anomalies = seasonal_ad.fit_detect(df)"
   ]
  },
  {
   "cell_type": "markdown",
   "metadata": {
    "collapsed": false,
    "jupyter": {
     "outputs_hidden": false
    }
   },
   "source": [
    "Let's see how the data looks like now!"
   ]
  },
  {
   "cell_type": "code",
   "execution_count": null,
   "metadata": {
    "collapsed": false,
    "jupyter": {
     "outputs_hidden": false
    }
   },
   "outputs": [],
   "source": [
    "fig, ax = plt.subplots(figsize=(7, 2.5))\n",
    "df.plot(ax=ax, label=\"data\")\n",
    "anomalies = anomalies.fillna(False)\n",
    "\n",
    "# Filter the data using the anomalies binary mask to get the anomaly values.\n",
    "anomaly_values = df[anomalies]\n",
    "\n",
    "# Use scatter to plot the anomalies as points.\n",
    "ax.scatter(anomaly_values.index, anomaly_values, color=\"red\", label=\"anomalies\")\n",
    "\n",
    "ax.legend()"
   ]
  },
  {
   "cell_type": "markdown",
   "metadata": {
    "collapsed": false,
    "jupyter": {
     "outputs_hidden": false
    }
   },
   "source": [
    "That looks much better, now let's push to it the server, so we can see it in our dashboard"
   ]
  },
  {
   "cell_type": "code",
   "execution_count": null,
   "metadata": {
    "collapsed": false,
    "jupyter": {
     "outputs_hidden": false
    }
   },
   "outputs": [],
   "source": [
    "analyzer.push_to_server(anomalies)"
   ]
  }
 ],
 "metadata": {
  "kernelspec": {
   "display_name": "gooddata",
   "language": "python",
   "name": "gooddata"
  },
  "language_info": {
   "codemirror_mode": {
    "name": "ipython",
    "version": 3
   },
   "file_extension": ".py",
   "mimetype": "text/x-python",
   "name": "python",
   "nbconvert_exporter": "python",
   "pygments_lexer": "ipython3",
   "version": "3.11.6"
  }
 },
 "nbformat": 4,
 "nbformat_minor": 4
}
