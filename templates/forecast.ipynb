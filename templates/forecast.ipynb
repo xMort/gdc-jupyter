{
 "cells": [
  {
   "cell_type": "markdown",
   "id": "6591c116a9bc8aab",
   "metadata": {
    "collapsed": false
   },
   "source": [
    "First, setup parameters about insight we want to work on."
   ]
  },
  {
   "cell_type": "markdown",
   "id": "6af66b4610d004c9",
   "metadata": {
    "collapsed": false
   },
   "source": [
    "Now prepare insight analyzer instance."
   ]
  },
  {
   "cell_type": "code",
   "execution_count": null,
   "id": "cf784e3361505a99",
   "metadata": {
    "collapsed": false
   },
   "outputs": [],
   "source": [
    "from insight_analyzer import *\n",
    "\n",
    "analyzer = ForecastAnalyzer()"
   ]
  },
  {
   "cell_type": "markdown",
   "id": "59a3e9e78e65d9af",
   "metadata": {
    "collapsed": false
   },
   "source": [
    "Let us fetch the dataframe from the server."
   ]
  },
  {
   "cell_type": "code",
   "execution_count": null,
   "id": "17dc1c97fcba458b",
   "metadata": {
    "collapsed": false
   },
   "outputs": [],
   "source": [
    "df = analyzer.get_df()"
   ]
  },
  {
   "cell_type": "markdown",
   "id": "1f20b150",
   "metadata": {},
   "source": [
    "Let's start by preprocessing our dataframe, so `Autoreg` from `sklearn` package can accept it:"
   ]
  },
  {
   "cell_type": "code",
   "execution_count": null,
   "id": "dd679c7b",
   "metadata": {},
   "outputs": [],
   "source": [
    "# Convert PeriodIndex to DateTimeIndex\n",
    "if isinstance(df.index, pd.PeriodIndex):\n",
    "    df.index = df.index.to_timestamp()\n",
    "\n",
    "# Prepare the data (get the time series column)\n",
    "column_name = df.columns[0]\n",
    "time_series = df[column_name]"
   ]
  },
  {
   "cell_type": "markdown",
   "id": "c3333333",
   "metadata": {},
   "source": [
    "Okay, now let's set up the fitted model. For this we need to set up lags, which is a parameter denoting, how many past datapoints influence the forecast of next one."
   ]
  },
  {
   "cell_type": "code",
   "execution_count": null,
   "id": "e99fe5e6",
   "metadata": {},
   "outputs": [],
   "source": [
    "from statsmodels.tsa.ar_model import AutoReg\n",
    "\n",
    "# Number of quarters to use to predict the next quarter\n",
    "lags = 8 # 2 years\n",
    "\n",
    "# Train the AutoRegressive model\n",
    "model = AutoReg(time_series, lags=lags)\n",
    "model_fitted = model.fit()"
   ]
  },
  {
   "cell_type": "markdown",
   "id": "6b5cc0d5",
   "metadata": {},
   "source": [
    "Now let's forecast our data."
   ]
  },
  {
   "cell_type": "code",
   "execution_count": null,
   "id": "b388ee42",
   "metadata": {},
   "outputs": [],
   "source": [
    "# Number of steps to predict\n",
    "steps = 12 # 3 years\n",
    "\n",
    "# Confidence interval:\n",
    "conf_int = 90\n",
    "\n",
    "forecast_obj = model_fitted.get_prediction(start=len(time_series), end=len(time_series) + steps - 1)\n",
    "forecast = forecast_obj.predicted_mean\n",
    "conf_int = forecast_obj.conf_int(alpha=(100-conf_int)/100)"
   ]
  },
  {
   "cell_type": "markdown",
   "id": "1c9d6efa",
   "metadata": {},
   "source": [
    "It is better to concise the data, so it would be easier to work with."
   ]
  },
  {
   "cell_type": "code",
   "execution_count": null,
   "id": "2068ac49",
   "metadata": {},
   "outputs": [],
   "source": [
    "result_df = pd.DataFrame({\n",
    "        \"forecast\": forecast,\n",
    "        \"lower_bound\": conf_int.iloc[:, 0],\n",
    "        \"upper_bound\": conf_int.iloc[:, 1]\n",
    "    })"
   ]
  },
  {
   "cell_type": "markdown",
   "id": "4da4be0a",
   "metadata": {},
   "source": [
    "Okay, now just plot it.\n",
    "Notice, that the last of the original datapoints is not connected to the new one."
   ]
  },
  {
   "cell_type": "code",
   "execution_count": null,
   "id": "c0cea0ad",
   "metadata": {},
   "outputs": [],
   "source": [
    "column_name = df.columns[0]\n",
    "\n",
    "# Plot the original time series data\n",
    "plt.figure(figsize=(12, 6))\n",
    "plt.plot(df.index, df[column_name], label='Original Time Series', color='blue')\n",
    "\n",
    "# Plot the forecasted values\n",
    "plt.plot(result_df.index, result_df['forecast'], label='Forecasted Values', color='red')\n",
    "\n",
    "# Plot the confidence intervals\n",
    "plt.fill_between(result_df.index, result_df['lower_bound'], result_df['upper_bound'], color='gray', alpha=0.5, label='95% Confidence Interval')\n",
    "\n",
    "# Adding labels and title\n",
    "plt.xlabel('Time')\n",
    "plt.ylabel('Value')\n",
    "plt.title('Time Series Forecast')\n",
    "plt.legend()\n",
    "\n",
    "# Show plot\n",
    "plt.show()"
   ]
  },
  {
   "cell_type": "markdown",
   "id": "03bf416c",
   "metadata": {},
   "source": [
    "To fix this gap, simply add the last datapoint point of the original dataframe to the new one."
   ]
  },
  {
   "cell_type": "code",
   "execution_count": null,
   "id": "4214b1c0",
   "metadata": {},
   "outputs": [],
   "source": [
    "# Adding the last point of the input dataframe to the result dataframe\n",
    "last_value = time_series.iloc[-1]\n",
    "last_date = time_series.index[-1]\n",
    "new_row = pd.DataFrame({\n",
    "    \"forecast\": [last_value],\n",
    "    \"lower_bound\": [last_value],\n",
    "    \"upper_bound\": [last_value]\n",
    "}, index=[last_date])\n",
    "\n",
    "# Append the new row at the beginning of the result dataframe\n",
    "result_df = pd.concat([new_row, result_df])"
   ]
  },
  {
   "cell_type": "markdown",
   "id": "cd198374",
   "metadata": {},
   "source": [
    "Now let's see how it looks when connected."
   ]
  },
  {
   "cell_type": "code",
   "execution_count": null,
   "id": "c891eb52",
   "metadata": {},
   "outputs": [],
   "source": [
    "column_name = df.columns[0]\n",
    "\n",
    "# Plot the original time series data\n",
    "plt.figure(figsize=(12, 6))\n",
    "plt.plot(df.index, df[column_name], label='Original Time Series', color='blue')\n",
    "\n",
    "# Plot the forecasted values\n",
    "plt.plot(result_df.index, result_df['forecast'], label='Forecasted Values', color='red')\n",
    "\n",
    "# Plot the confidence intervals\n",
    "plt.fill_between(result_df.index, result_df['lower_bound'], result_df['upper_bound'], color='gray', alpha=0.5, label='95% Confidence Interval')\n",
    "\n",
    "# Adding labels and title\n",
    "plt.xlabel('Time')\n",
    "plt.ylabel('Value')\n",
    "plt.title('Time Series Forecast')\n",
    "plt.legend()\n",
    "\n",
    "# Show plot\n",
    "plt.show()"
   ]
  },
  {
   "cell_type": "markdown",
   "id": "2b1e42c7",
   "metadata": {},
   "source": [
    "Awesome! Last thing to do now is to push it to the server, so we can see it on our dashboard."
   ]
  },
  {
   "cell_type": "code",
   "execution_count": null,
   "id": "3dfc9458",
   "metadata": {},
   "outputs": [],
   "source": [
    "analyzer.push_to_server(result_df, df)"
   ]
  }
 ],
 "metadata": {
  "kernelspec": {
   "display_name": "Python 3 (ipykernel)",
   "language": "python",
   "name": "python3"
  },
  "language_info": {
   "codemirror_mode": {
    "name": "ipython",
    "version": 3
   },
   "file_extension": ".py",
   "mimetype": "text/x-python",
   "name": "python",
   "nbconvert_exporter": "python",
   "pygments_lexer": "ipython3",
   "version": "3.11.4"
  }
 },
 "nbformat": 4,
 "nbformat_minor": 5
}
